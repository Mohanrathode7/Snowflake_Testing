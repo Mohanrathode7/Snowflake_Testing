{
 "metadata": {
  "kernelspec": {
   "display_name": "Streamlit Notebook",
   "name": "streamlit"
  }
 },
 "nbformat_minor": 5,
 "nbformat": 4,
 "cells": [
  {
   "cell_type": "code",
   "id": "3775908f-ca36-4846-8f38-5adca39217f2",
   "metadata": {
    "language": "python",
    "name": "cell1",
    "collapsed": false
   },
   "source": "## This is a just a dummy python note book as to how to create a session and make use of it create dataframes as usual.\n\nimport pandas as pd\nprint('hello!')\nsession=get_active_session()\n\ndef summer(session):\n    df=session.sql('select * from village_data').to_pandas() ## use this for if you want to store data frames \n    session.sql('Create or replace table village_data3 as select * from village_data').collect() # use this only when you want to execute a statement.\n    print(df.head())\n\nsummer(session)\nprint('End of the Notebook')\n    ",
   "execution_count": null,
   "outputs": []
  }
 ]
}